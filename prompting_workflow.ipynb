{
 "cells": [
  {
   "cell_type": "code",
   "execution_count": null,
   "id": "99207c52",
   "metadata": {},
   "outputs": [],
   "source": [
    "#prompting\n",
    "#start -> generate topic outline -> generate blog -> end"
   ]
  },
  {
   "cell_type": "code",
   "execution_count": 8,
   "id": "dfd6d764",
   "metadata": {},
   "outputs": [],
   "source": [
    "from langgraph.graph import StateGraph,START,END\n",
    "from langchain_openai import ChatOpenAI\n",
    "from typing import TypedDict\n",
    "from dotenv import load_dotenv"
   ]
  },
  {
   "cell_type": "code",
   "execution_count": 9,
   "id": "b155767a",
   "metadata": {},
   "outputs": [],
   "source": [
    "load_dotenv()\n",
    "\n",
    "model = ChatOpenAI()"
   ]
  },
  {
   "cell_type": "code",
   "execution_count": 10,
   "id": "049566bd",
   "metadata": {},
   "outputs": [],
   "source": [
    "# state : topic , outline , blog\n",
    "\n",
    "class BlogState(TypedDict):\n",
    "    title : str\n",
    "    outline : str\n",
    "    content : str\n",
    "    score : str"
   ]
  },
  {
   "cell_type": "code",
   "execution_count": 12,
   "id": "e2ef2c31",
   "metadata": {},
   "outputs": [],
   "source": [
    "def create_outline(state : BlogState) -> BlogState :\n",
    "\n",
    "    topic = state['title']\n",
    "\n",
    "    #cal llm to get outline\n",
    "\n",
    "    prompt = f'Generate a detailed outline for a topic {topic}'\n",
    "    outline = model.invoke(prompt).content\n",
    "    state['outline'] = outline\n",
    "    return state\n",
    "\n",
    "def create_blog(state : BlogState) -> BlogState : \n",
    "\n",
    "    outline = state['outline']\n",
    "    #prompt\n",
    "    prompt = f'Generate a detailed blog for {outline}'\n",
    "    content = model.invoke(prompt).content\n",
    "    state['content'] = content\n",
    "    return state\n",
    "\n",
    "def evaluate_blog(state : BlogState) -> BlogState : \n",
    "\n",
    "    title = state['title']\n",
    "    outline = state['outline']\n",
    "    content = state['content']\n",
    "\n",
    "    prompt = f'Based on title {title} and outline {outline} rate content {content}'\n",
    "    score = model.invoke(prompt).content\n",
    "    state['score'] = score\n",
    "    return state"
   ]
  },
  {
   "cell_type": "code",
   "execution_count": 13,
   "id": "2b8ff583",
   "metadata": {},
   "outputs": [
    {
     "data": {
      "image/png": "[encoded data removed]",
      "text/plain": [
       "<langgraph.graph.state.CompiledStateGraph object at 0x000002048AACE230>"
      ]
     },
     "execution_count": 13,
     "metadata": {},
     "output_type": "execute_result"
    }
   ],
   "source": [
    "graph = StateGraph(BlogState)\n",
    "\n",
    "#add nodes\n",
    "\n",
    "graph.add_node('create_outline',create_outline)\n",
    "graph.add_node('create_blog',create_blog)\n",
    "graph.add_node('evaluate_blog',evaluate_blog)\n",
    "#add edge\n",
    "\n",
    "graph.add_edge(START,'create_outline')\n",
    "graph.add_edge('create_outline','create_blog')\n",
    "graph.add_edge('create_blog','evaluate_blog')\n",
    "graph.add_edge('evaluate_blog',END)\n",
    "\n",
    "\n",
    "graph.compile()"
   ]
  },
  {
   "cell_type": "code",
   "execution_count": 14,
   "id": "b8639ecd",
   "metadata": {},
   "outputs": [],
   "source": [
    "#in langchain you couldnt access outline in end \n",
    "#but here you can \n",
    "workflow = graph.compile()"
   ]
  },
  {
   "cell_type": "code",
   "execution_count": null,
   "id": "a04e8068",
   "metadata": {},
   "outputs": [],
   "source": [
    "initial_state = {'title' : 'Rise of AI in India'}\n",
    "\n",
    "final_state = workflow.invoke(initial_state)\n",
    "\n",
    "print(final_state['outline'])"
   ]
  }
 ],
 "metadata": {
  "kernelspec": {
   "display_name": "Python 3",
   "language": "python",
   "name": "python3"
  },
  "language_info": {
   "codemirror_mode": {
    "name": "ipython",
    "version": 3
   },
   "file_extension": ".py",
   "mimetype": "text/x-python",
   "name": "python",
   "nbconvert_exporter": "python",
   "pygments_lexer": "ipython3",
   "version": "3.10.11"
  }
 },
 "nbformat": 4,
 "nbformat_minor": 5
}
